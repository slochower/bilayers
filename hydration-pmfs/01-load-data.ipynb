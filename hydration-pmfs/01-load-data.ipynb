{
 "cells": [
  {
   "cell_type": "code",
   "execution_count": 3,
   "metadata": {
    "ExecuteTime": {
     "end_time": "2018-03-12T22:15:41.756391Z",
     "start_time": "2018-03-12T22:15:41.753992Z"
    }
   },
   "outputs": [],
   "source": [
    "import numpy as np\n",
    "import mdtraj as md"
   ]
  },
  {
   "cell_type": "code",
   "execution_count": 4,
   "metadata": {
    "ExecuteTime": {
     "end_time": "2018-03-12T22:15:41.997808Z",
     "start_time": "2018-03-12T22:15:41.993328Z"
    }
   },
   "outputs": [],
   "source": [
    "files, fc, distances = np.genfromtxt('data/sampling', usecols=(0, 1, 2), \n",
    "                                     unpack=True, dtype=(bytes, bytes))"
   ]
  },
  {
   "cell_type": "code",
   "execution_count": 48,
   "metadata": {
    "ExecuteTime": {
     "end_time": "2018-03-12T22:53:31.422194Z",
     "start_time": "2018-03-12T22:53:31.419436Z"
    }
   },
   "outputs": [],
   "source": [
    "water_distance = 2.2\n",
    "output_file = 'calcium-water-coordination.csv'"
   ]
  },
  {
   "cell_type": "code",
   "execution_count": 79,
   "metadata": {
    "ExecuteTime": {
     "end_time": "2018-03-13T00:12:40.339624Z",
     "start_time": "2018-03-13T00:12:40.300265Z"
    }
   },
   "outputs": [],
   "source": [
    "def count(ion, water_distance, output_file, files, fc, distances):\n",
    "    \n",
    "    with open(output_file, 'w') as output:\n",
    "\n",
    "        for index, file in enumerate(files):\n",
    "            force_constant = float(fc[index].decode('utf-8'))\n",
    "            distance = distances[index].decode('utf-8')\n",
    "\n",
    "            topology = f'enforce-umbrella-cons-{force_constant:0.1f}-dist-{distance}.psf'\n",
    "            trajectory = f'dyn-umbrella-cons-{force_constant:0.1f}-dist-{distance}.dcd'\n",
    "\n",
    "            # `pytraj` crashes loading these trajectories\n",
    "            # Error: Could not read block from DCD.    \n",
    "            if 'CAL' in ion:\n",
    "                traj = md.load('data/' + trajectory, top='data/' + topology)\n",
    "                \n",
    "            elif 'MG' in ion:\n",
    "                traj = md.load('../../Bigger-with-Mg/Umbrella-50/' + trajectory,\n",
    "                              top='../../Bigger-with-Mg/Umbrella-50/' + topology)\n",
    "            calcium = traj.topology.select(f'name {ion}')\n",
    "            waters = traj.topology.select('resname HOH and name O')\n",
    "            bound_waters = md.compute_neighbors(traj, \n",
    "                                                water_distance*0.1,\n",
    "                                                query_indices=calcium, \n",
    "                                                haystack_indices=waters)\n",
    "            mean_waters = np.mean([len(lst) for lst in bound_waters])\n",
    "            std_waters = np.std([len(lst) for lst in bound_waters])\n",
    "\n",
    "            # print(f'{distance}\\t{mean_waters} +/- {std_waters:0.2f}')\n",
    "            output.write(f'{distance},{mean_waters},{std_waters:0.2f}\\n')"
   ]
  },
  {
   "cell_type": "code",
   "execution_count": 91,
   "metadata": {
    "ExecuteTime": {
     "end_time": "2018-03-13T04:18:15.137254Z",
     "start_time": "2018-03-13T04:17:00.074313Z"
    }
   },
   "outputs": [],
   "source": [
    "water_distances = [2.28, 2.60]\n",
    "ions = ['MG', 'CAL']\n",
    "output_files = ['mg-water-2.28.csv', 'ca-water-2.60.csv']\n",
    "\n",
    "for water_distance, ion, output_file in zip(water_distances, ions, output_files):\n",
    "    if 'CAL' in ion:\n",
    "        files, fc, distances = np.genfromtxt('data/sampling', usecols=(0, 1, 2), \n",
    "                                     unpack=True, dtype=(bytes, bytes))\n",
    "    elif 'MG' in ion:\n",
    "        files, fc, distances = np.genfromtxt('../../Bigger-with-Mg/Umbrella-50/sampling', \n",
    "                                             usecols=(0, 1, 2), \n",
    "                                             unpack=True, dtype=(bytes, bytes))\n",
    "    count(ion, water_distance, output_file, files, fc, distances)"
   ]
  },
  {
   "cell_type": "code",
   "execution_count": 81,
   "metadata": {
    "ExecuteTime": {
     "end_time": "2018-03-13T00:13:48.853641Z",
     "start_time": "2018-03-13T00:12:41.152689Z"
    }
   },
   "outputs": [],
   "source": [
    "for water_distance, ion, output_file in zip(water_distances, ions, output_files):\n",
    "    if 'CAL' in ion:\n",
    "        files, fc, distances = np.genfromtxt('data/sampling', usecols=(0, 1, 2), \n",
    "                                     unpack=True, dtype=(bytes, bytes))\n",
    "    elif 'MG' in ion:\n",
    "        files, fc, distances = np.genfromtxt('../../Bigger-with-Mg/Umbrella-50/sampling', \n",
    "                                             usecols=(0, 1, 2), \n",
    "                                             unpack=True, dtype=(bytes, bytes))\n",
    "    count(ion, water_distance, output_file, files, fc, distances)"
   ]
  },
  {
   "cell_type": "code",
   "execution_count": null,
   "metadata": {},
   "outputs": [],
   "source": [
    "water_distances = [2.2, 4.6]\n",
    "ions = ['MG', 'MG']\n",
    "output_files = ['mg-water-2.2.csv', 'mg-water-4.6.csv']"
   ]
  },
  {
   "cell_type": "markdown",
   "metadata": {},
   "source": [
    "## Record all the data, not just mean and standard deviation"
   ]
  },
  {
   "cell_type": "code",
   "execution_count": 103,
   "metadata": {
    "ExecuteTime": {
     "end_time": "2018-03-13T17:09:22.471768Z",
     "start_time": "2018-03-13T17:09:22.399730Z"
    }
   },
   "outputs": [],
   "source": [
    "def count_all(ion, water_distance, output_file, files, fc, distances):\n",
    "    \n",
    "    with open(output_file, 'w') as output:\n",
    "\n",
    "        for index, file in enumerate(files):\n",
    "            force_constant = float(fc[index].decode('utf-8'))\n",
    "            distance = distances[index].decode('utf-8')\n",
    "\n",
    "            topology = f'enforce-umbrella-cons-{force_constant:0.1f}-dist-{distance}.psf'\n",
    "            trajectory = f'dyn-umbrella-cons-{force_constant:0.1f}-dist-{distance}.dcd'\n",
    "\n",
    "            # `pytraj` crashes loading these trajectories\n",
    "            # Error: Could not read block from DCD.    \n",
    "            if 'CAL' in ion:\n",
    "                traj = md.load('data/' + trajectory, top='data/' + topology)\n",
    "                \n",
    "            elif 'MG' in ion:\n",
    "                traj = md.load('../../Bigger-with-Mg/Umbrella-50/' + trajectory,\n",
    "                              top='../../Bigger-with-Mg/Umbrella-50/' + topology)\n",
    "            calcium = traj.topology.select(f'name {ion}')\n",
    "            waters = traj.topology.select('resname HOH and name O')\n",
    "            bound_waters = md.compute_neighbors(traj, \n",
    "                                                water_distance*0.1,\n",
    "                                                query_indices=calcium, \n",
    "                                                haystack_indices=waters)\n",
    "            mean_waters = np.mean([len(lst) for lst in bound_waters])\n",
    "            std_waters = np.std([len(lst) for lst in bound_waters])\n",
    "\n",
    "            # print(f'{distance}\\t{mean_waters} +/- {std_waters:0.2f}')\n",
    "            for lst in bound_waters:\n",
    "                output.write(f'{distance},{len(lst)}\\n')\n"
   ]
  },
  {
   "cell_type": "code",
   "execution_count": 105,
   "metadata": {
    "ExecuteTime": {
     "end_time": "2018-03-13T17:10:22.344830Z",
     "start_time": "2018-03-13T17:10:22.300906Z"
    }
   },
   "outputs": [],
   "source": [
    "def count_all_frame_3052(ion, water_distance, output_file, files, fc, distances):\n",
    "    \n",
    "    # I'm honestly not sure what is different about this directory, but based on investigating Origin plots, \n",
    "    # it seems this was used for the paper figures.\n",
    "    \n",
    "    with open(output_file, 'w') as output:\n",
    "\n",
    "        for index, file in enumerate(files):\n",
    "            force_constant = float(fc[index].decode('utf-8'))\n",
    "            distance = distances[index].decode('utf-8')\n",
    "\n",
    "            topology = f'enforce-umbrella-cons-{force_constant:0.1f}-dist-{distance}.psf'\n",
    "            trajectory = f'dyn-umbrella-cons-{force_constant:0.1f}-dist-{distance}.dcd'\n",
    "\n",
    "            # `pytraj` crashes loading these trajectories\n",
    "            # Error: Could not read block from DCD.    \n",
    "            if 'CAL' in ion:\n",
    "                traj = md.load('data/' + trajectory, top='data/' + topology)\n",
    "                \n",
    "            elif 'MG' in ion:\n",
    "                traj = md.load('../../Bigger-with-Mg/Umbrella-50-frame-3052/' + trajectory,\n",
    "                              top='../../Bigger-with-Mg/Umbrella-50-frame-3052/' + topology)\n",
    "            calcium = traj.topology.select(f'name {ion}')\n",
    "            waters = traj.topology.select('resname HOH and name O')\n",
    "            bound_waters = md.compute_neighbors(traj, \n",
    "                                                water_distance*0.1,\n",
    "                                                query_indices=calcium, \n",
    "                                                haystack_indices=waters)\n",
    "            mean_waters = np.mean([len(lst) for lst in bound_waters])\n",
    "            std_waters = np.std([len(lst) for lst in bound_waters])\n",
    "\n",
    "            # print(f'{distance}\\t{mean_waters} +/- {std_waters:0.2f}')\n",
    "            for lst in bound_waters:\n",
    "                output.write(f'{distance},{len(lst)}\\n')\n"
   ]
  },
  {
   "cell_type": "code",
   "execution_count": 109,
   "metadata": {
    "ExecuteTime": {
     "end_time": "2018-03-13T17:14:56.640485Z",
     "start_time": "2018-03-13T17:14:14.068945Z"
    }
   },
   "outputs": [],
   "source": [
    "files, fc, distances = np.genfromtxt('../../Bigger-with-Mg/Umbrella-50-frame-3052/sampling', \n",
    "                                             usecols=(0, 1, 2), \n",
    "                                             unpack=True, dtype=(bytes, bytes))\n",
    "count_all_frame_3052('MG', 2.28, 'mg-water-frame-3052-all-2.28.csv', files, fc, distances)"
   ]
  },
  {
   "cell_type": "code",
   "execution_count": 102,
   "metadata": {
    "ExecuteTime": {
     "end_time": "2018-03-13T14:35:08.651319Z",
     "start_time": "2018-03-13T14:33:53.758163Z"
    }
   },
   "outputs": [],
   "source": [
    "water_distances = [2.28, 2.60]\n",
    "ions = ['MG', 'CAL']\n",
    "output_files = ['mg-water-all-2.28.csv', 'ca-water-all-2.60.csv']\n",
    "\n",
    "for water_distance, ion, output_file in zip(water_distances, ions, output_files):\n",
    "    if 'CAL' in ion:\n",
    "        files, fc, distances = np.genfromtxt('data/sampling', usecols=(0, 1, 2), \n",
    "                                     unpack=True, dtype=(bytes, bytes))\n",
    "    elif 'MG' in ion:\n",
    "        files, fc, distances = np.genfromtxt('../../Bigger-with-Mg/Umbrella-50/sampling', \n",
    "                                             usecols=(0, 1, 2), \n",
    "                                             unpack=True, dtype=(bytes, bytes))\n",
    "    count_all(ion, water_distance, output_file, files, fc, distances)"
   ]
  },
  {
   "cell_type": "markdown",
   "metadata": {},
   "source": [
    "# Scan"
   ]
  },
  {
   "cell_type": "code",
   "execution_count": 82,
   "metadata": {
    "ExecuteTime": {
     "end_time": "2018-03-13T01:46:14.237594Z",
     "start_time": "2018-03-13T01:46:14.200710Z"
    }
   },
   "outputs": [],
   "source": [
    "def scan(ion, water_distance, output_file, files, fc, distances):\n",
    "    \n",
    "    with open(output_file, 'a') as output:\n",
    "\n",
    "        for index, file in enumerate(files):\n",
    "            force_constant = float(fc[index].decode('utf-8'))\n",
    "            distance = distances[index].decode('utf-8')\n",
    "\n",
    "            topology = f'enforce-umbrella-cons-{force_constant:0.1f}-dist-{distance}.psf'\n",
    "            trajectory = f'dyn-umbrella-cons-{force_constant:0.1f}-dist-{distance}.dcd'\n",
    "\n",
    "            # `pytraj` crashes loading these trajectories\n",
    "            # Error: Could not read block from DCD.    \n",
    "            if 'CAL' in ion:\n",
    "                traj = md.load('data/' + trajectory, top='data/' + topology)\n",
    "                \n",
    "            elif 'MG' in ion:\n",
    "                traj = md.load('../../Bigger-with-Mg/Umbrella-50/' + trajectory,\n",
    "                              top='../../Bigger-with-Mg/Umbrella-50/' + topology)\n",
    "            calcium = traj.topology.select(f'name {ion}')\n",
    "            waters = traj.topology.select('resname HOH and name O')\n",
    "            bound_waters = md.compute_neighbors(traj, \n",
    "                                                water_distance*0.1,\n",
    "                                                query_indices=calcium, \n",
    "                                                haystack_indices=waters)\n",
    "            mean_waters = np.mean([len(lst) for lst in bound_waters])\n",
    "            std_waters = np.std([len(lst) for lst in bound_waters])\n",
    "\n",
    "            # print(f'{distance}\\t{mean_waters} +/- {std_waters:0.2f}')\n",
    "            output.write(f'{water_distance},{distance},{mean_waters},{std_waters:0.2f}\\n')"
   ]
  },
  {
   "cell_type": "code",
   "execution_count": 89,
   "metadata": {
    "ExecuteTime": {
     "end_time": "2018-03-13T02:05:55.916256Z",
     "start_time": "2018-03-13T02:03:05.601441Z"
    }
   },
   "outputs": [],
   "source": [
    "water_distances = np.arange(2.0, 6.0, 1.0)\n",
    "ions=['CAL']\n",
    "output_files = ['ca-waters.csv']\n",
    "files, fc, distances = np.genfromtxt('data/sampling', usecols=(0, 1, 2), \n",
    "                             unpack=True, dtype=(bytes, bytes))\n",
    "for water_distance in water_distances:\n",
    "    ion = ions[0]\n",
    "    output_file = output_files[0]\n",
    "    scan(ion, water_distance, output_file, files, fc, distances)"
   ]
  },
  {
   "cell_type": "code",
   "execution_count": 90,
   "metadata": {
    "ExecuteTime": {
     "end_time": "2018-03-13T02:08:05.922287Z",
     "start_time": "2018-03-13T02:05:55.917964Z"
    }
   },
   "outputs": [],
   "source": [
    "water_distances = np.arange(2.0, 6.0, 1.0)\n",
    "ions=['MG']\n",
    "output_files = ['mg-waters.csv']\n",
    "files, fc, distances = np.genfromtxt('../../Bigger-with-Mg/Umbrella-50/sampling', \n",
    "                                     usecols=(0, 1, 2), \n",
    "                                     unpack=True, dtype=(bytes, bytes))\n",
    "for water_distance in water_distances:\n",
    "    ion = ions[0]\n",
    "    output_file = output_files[0]\n",
    "    scan(ion, water_distance, output_file, files, fc, distances)"
   ]
  },
  {
   "cell_type": "code",
   "execution_count": null,
   "metadata": {},
   "outputs": [],
   "source": []
  }
 ],
 "metadata": {
  "kernelspec": {
   "display_name": "Python [default]",
   "language": "python",
   "name": "python3"
  },
  "language_info": {
   "codemirror_mode": {
    "name": "ipython",
    "version": 3
   },
   "file_extension": ".py",
   "mimetype": "text/x-python",
   "name": "python",
   "nbconvert_exporter": "python",
   "pygments_lexer": "ipython3",
   "version": "3.6.4"
  }
 },
 "nbformat": 4,
 "nbformat_minor": 2
}
